{
 "cells": [
  {
   "cell_type": "code",
   "execution_count": 2,
   "metadata": {},
   "outputs": [
    {
     "name": "stdout",
     "output_type": "stream",
     "text": [
      "['hsja', 'qeba', 'nesscore', 'boundary', 'square', 'surfree']\n",
      "hsja 100\n",
      "13237.24\n",
      "qeba 102\n",
      "15425.460784313726\n",
      "nesscore 101\n",
      "14324.316831683169\n",
      "boundary 100\n",
      "6468.1\n",
      "square 101\n",
      "175.63366336633663\n",
      "surfree 101\n",
      "644.5445544554456\n"
     ]
    }
   ],
   "source": [
    "import os\n",
    "import sys\n",
    "import numpy as np\n",
    "import random \n",
    "dataset = 'imagenet'\n",
    "\n",
    "data_path = \"/home/lsf/BlackBox/ccs_23_oars_stateful_attacks/data/imagenet/attack_query/\"\n",
    "\n",
    "dir_list = os.listdir(data_path)\n",
    "print(dir_list)\n",
    "\n",
    "train_query = []\n",
    "for dir in dir_list:\n",
    "    if dir == 'boundary':\n",
    "        is_target = 'untargeted'\n",
    "    elif dir == 'hsja':\n",
    "        is_target = 'targeted'\n",
    "    elif dir == 'nesscore':\n",
    "        is_target = 'targeted'\n",
    "    elif dir == 'qeba':\n",
    "        is_target = 'untargeted'\n",
    "    elif dir == 'square':\n",
    "        is_target = 'untargeted'\n",
    "    elif dir == 'surfree':\n",
    "        is_target = 'untargeted'\n",
    "    instance_list = os.listdir(data_path + dir + '/' + is_target)\n",
    "    print(dir, len(instance_list))\n",
    "    total_queries = 0\n",
    "    for instance in instance_list:\n",
    "        instance_path = data_path + dir + '/' + is_target + '/' + instance\n",
    "        query_list = os.listdir(instance_path)\n",
    "        total_queries += len(query_list)\n",
    "        # if len(query_list) < 20:\n",
    "        #     os.system('rm -r ' + instance_path)\n",
    "    print(total_queries / len(instance_list))\n",
    "\n",
    "#     train_instance = random.sample(instance_list, min(5, len(instance_list)))\n",
    "#     print(train_instance)\n",
    "#     train_query += [data_path + dir + '/' + is_target + '/' + instance for instance in train_instance]\n",
    "    \n",
    "# for i, query in enumerate(train_query):\n",
    "#     print(query)\n",
    "#     os.system('cp -r ' + query + ' /home/lsf/BlackBox/ccs_23_oars_stateful_attacks/data/imagenet/anomaly_query/tmp/')\n",
    "#     os.system('mv ' + '/home/lsf/BlackBox/ccs_23_oars_stateful_attacks/data/imagenet/anomaly_query/tmp/' + query.split('/')[-1] + ' ' + '/home/lsf/BlackBox/ccs_23_oars_stateful_attacks/data/imagenet/anomaly_query/' + str(i))"
   ]
  }
 ],
 "metadata": {
  "kernelspec": {
   "display_name": "NES",
   "language": "python",
   "name": "python3"
  },
  "language_info": {
   "codemirror_mode": {
    "name": "ipython",
    "version": 3
   },
   "file_extension": ".py",
   "mimetype": "text/x-python",
   "name": "python",
   "nbconvert_exporter": "python",
   "pygments_lexer": "ipython3",
   "version": "3.10.9"
  }
 },
 "nbformat": 4,
 "nbformat_minor": 2
}
